{
 "cells": [
  {
   "cell_type": "code",
   "execution_count": 4,
   "metadata": {},
   "outputs": [],
   "source": [
    "import pandas as pd\n",
    "import numpy as np"
   ]
  },
  {
   "cell_type": "code",
   "execution_count": 1,
   "metadata": {},
   "outputs": [],
   "source": [
    "import psycopg2\n",
    "conn=psycopg2.connect(database=\"ernie\",user=\"wenxi\",host=\"localhost\",password=\"temp_ERNIE_1234\")\n",
    "conn.set_client_encoding('UTF8')\n",
    "conn.autocommit=True\n",
    "curs=conn.cursor()"
   ]
  },
  {
   "cell_type": "markdown",
   "metadata": {},
   "source": [
    "### Theta_Plus Visualization"
   ]
  },
  {
   "cell_type": "code",
   "execution_count": 2,
   "metadata": {},
   "outputs": [],
   "source": [
    "curs.execute(\"SET SEARCH_PATH TO theta_plus;\")"
   ]
  },
  {
   "cell_type": "code",
   "execution_count": 7,
   "metadata": {},
   "outputs": [],
   "source": [
    "node_size = pd.read_sql(\n",
    "'''\n",
    "WITH cte AS (SELECT a.cluster_no, a.scp, b.auid FROM theta_plus.imm1985_1995_cluster_scp_list_unshuffled a INNER JOIN public.scopus_authors b\n",
    "ON a.scp = b.scp\n",
    "WHERE cluster_no = 15865)\n",
    "SELECT cte.auid, COUNT(*) as node_size FROM cte\n",
    "GROUP BY cte.auid\n",
    "''', conn)"
   ]
  },
  {
   "cell_type": "code",
   "execution_count": 11,
   "metadata": {},
   "outputs": [
    {
     "data": {
      "text/html": [
       "<div>\n",
       "<style scoped>\n",
       "    .dataframe tbody tr th:only-of-type {\n",
       "        vertical-align: middle;\n",
       "    }\n",
       "\n",
       "    .dataframe tbody tr th {\n",
       "        vertical-align: top;\n",
       "    }\n",
       "\n",
       "    .dataframe thead th {\n",
       "        text-align: right;\n",
       "    }\n",
       "</style>\n",
       "<table border=\"1\" class=\"dataframe\">\n",
       "  <thead>\n",
       "    <tr style=\"text-align: right;\">\n",
       "      <th></th>\n",
       "      <th>auid</th>\n",
       "      <th>node_size</th>\n",
       "    </tr>\n",
       "  </thead>\n",
       "  <tbody>\n",
       "    <tr>\n",
       "      <td>0</td>\n",
       "      <td>6503951189</td>\n",
       "      <td>1</td>\n",
       "    </tr>\n",
       "    <tr>\n",
       "      <td>1</td>\n",
       "      <td>6504069823</td>\n",
       "      <td>1</td>\n",
       "    </tr>\n",
       "    <tr>\n",
       "      <td>2</td>\n",
       "      <td>6506298135</td>\n",
       "      <td>1</td>\n",
       "    </tr>\n",
       "    <tr>\n",
       "      <td>3</td>\n",
       "      <td>6506562124</td>\n",
       "      <td>2</td>\n",
       "    </tr>\n",
       "    <tr>\n",
       "      <td>4</td>\n",
       "      <td>6506618842</td>\n",
       "      <td>1</td>\n",
       "    </tr>\n",
       "  </tbody>\n",
       "</table>\n",
       "</div>"
      ],
      "text/plain": [
       "         auid  node_size\n",
       "0  6503951189          1\n",
       "1  6504069823          1\n",
       "2  6506298135          1\n",
       "3  6506562124          2\n",
       "4  6506618842          1"
      ]
     },
     "execution_count": 11,
     "metadata": {},
     "output_type": "execute_result"
    }
   ],
   "source": [
    "node_size.head()"
   ]
  },
  {
   "cell_type": "code",
   "execution_count": 9,
   "metadata": {},
   "outputs": [],
   "source": [
    "edge_size = pd.read_sql(\n",
    "'''\n",
    "WITH cte AS(\n",
    "    SELECT a.scp, b.auid FROM theta_plus.imm1985_1995_cluster_scp_list_unshuffled a\n",
    "    INNER JOIN public.scopus_authors b\n",
    "               ON a.scp = b.scp\n",
    "     WHERE a.cluster_no = 15865)\n",
    "SELECT author_1, author_2, COUNT(*) FROM (\n",
    "SELECT cte.scp, cte.auid AS author_1, c.auid AS author_2 FROM cte JOIN cte c ON cte.scp = c.scp AND cte.auid != c.auid) d\n",
    "GROUP BY author_1, author_2\n",
    "''', conn)"
   ]
  },
  {
   "cell_type": "code",
   "execution_count": 12,
   "metadata": {},
   "outputs": [
    {
     "data": {
      "text/html": [
       "<div>\n",
       "<style scoped>\n",
       "    .dataframe tbody tr th:only-of-type {\n",
       "        vertical-align: middle;\n",
       "    }\n",
       "\n",
       "    .dataframe tbody tr th {\n",
       "        vertical-align: top;\n",
       "    }\n",
       "\n",
       "    .dataframe thead th {\n",
       "        text-align: right;\n",
       "    }\n",
       "</style>\n",
       "<table border=\"1\" class=\"dataframe\">\n",
       "  <thead>\n",
       "    <tr style=\"text-align: right;\">\n",
       "      <th></th>\n",
       "      <th>author_1</th>\n",
       "      <th>author_2</th>\n",
       "      <th>count</th>\n",
       "    </tr>\n",
       "  </thead>\n",
       "  <tbody>\n",
       "    <tr>\n",
       "      <td>0</td>\n",
       "      <td>7101621010</td>\n",
       "      <td>57193203418</td>\n",
       "      <td>1</td>\n",
       "    </tr>\n",
       "    <tr>\n",
       "      <td>1</td>\n",
       "      <td>7006846682</td>\n",
       "      <td>7102706945</td>\n",
       "      <td>4</td>\n",
       "    </tr>\n",
       "    <tr>\n",
       "      <td>2</td>\n",
       "      <td>57194482830</td>\n",
       "      <td>7201440236</td>\n",
       "      <td>1</td>\n",
       "    </tr>\n",
       "    <tr>\n",
       "      <td>3</td>\n",
       "      <td>7102706945</td>\n",
       "      <td>57190035381</td>\n",
       "      <td>1</td>\n",
       "    </tr>\n",
       "    <tr>\n",
       "      <td>4</td>\n",
       "      <td>7102706945</td>\n",
       "      <td>35918707600</td>\n",
       "      <td>1</td>\n",
       "    </tr>\n",
       "  </tbody>\n",
       "</table>\n",
       "</div>"
      ],
      "text/plain": [
       "      author_1     author_2  count\n",
       "0   7101621010  57193203418      1\n",
       "1   7006846682   7102706945      4\n",
       "2  57194482830   7201440236      1\n",
       "3   7102706945  57190035381      1\n",
       "4   7102706945  35918707600      1"
      ]
     },
     "execution_count": 12,
     "metadata": {},
     "output_type": "execute_result"
    }
   ],
   "source": [
    "edge_size.head()"
   ]
  },
  {
   "cell_type": "code",
   "execution_count": 14,
   "metadata": {},
   "outputs": [
    {
     "data": {
      "text/plain": [
       "(None, None)"
      ]
     },
     "execution_count": 14,
     "metadata": {},
     "output_type": "execute_result"
    }
   ],
   "source": [
    "import networkx as nx\n",
    "from netwulf import visualize\n",
    "\n",
    "G = nx.from_pandas_edgelist(edge_size, 'author_1', 'author_2')\n",
    "\n",
    "i=0\n",
    "# Set link 'weight' attributes\n",
    "for n1, n2, data in G.edges(data=True):\n",
    "    data['weight'] = edge_size['count'][i] * 10\n",
    "    i+=1\n",
    "\n",
    "i=0\n",
    "# Set node 'size' attributes\n",
    "for n, data in G.nodes(data=True):\n",
    "    data['size'] = node_size['node_size'][i]\n",
    "    i+=1\n",
    "\n",
    "visualize(G)"
   ]
  },
  {
   "cell_type": "code",
   "execution_count": null,
   "metadata": {},
   "outputs": [],
   "source": []
  }
 ],
 "metadata": {
  "kernelspec": {
   "display_name": "Python 3",
   "language": "python",
   "name": "python3"
  },
  "language_info": {
   "codemirror_mode": {
    "name": "ipython",
    "version": 3
   },
   "file_extension": ".py",
   "mimetype": "text/x-python",
   "name": "python",
   "nbconvert_exporter": "python",
   "pygments_lexer": "ipython3",
   "version": "3.7.4"
  }
 },
 "nbformat": 4,
 "nbformat_minor": 2
}
